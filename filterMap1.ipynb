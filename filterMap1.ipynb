{
  "nbformat": 4,
  "nbformat_minor": 0,
  "metadata": {
    "colab": {
      "name": "Untitled1.ipynb",
      "provenance": [],
      "authorship_tag": "ABX9TyOw7bF8ghLr+uJOuPRsybxl",
      "include_colab_link": true
    },
    "kernelspec": {
      "name": "python3",
      "display_name": "Python 3"
    }
  },
  "cells": [
    {
      "cell_type": "markdown",
      "metadata": {
        "id": "view-in-github",
        "colab_type": "text"
      },
      "source": [
        "<a href=\"https://colab.research.google.com/github/noirHck/Argus/blob/master/filterMap1.ipynb\" target=\"_parent\"><img src=\"https://colab.research.google.com/assets/colab-badge.svg\" alt=\"Open In Colab\"/></a>"
      ]
    },
    {
      "cell_type": "code",
      "metadata": {
        "id": "G64MdyPmULD0",
        "colab_type": "code",
        "colab": {
          "base_uri": "https://localhost:8080/",
          "height": 34
        },
        "outputId": "094d02dc-3ff5-47bc-d983-5720dfe55db9"
      },
      "source": [
        "# lambda on the fly\n",
        "def myfunc(n):\n",
        "   return lambda a: a*n\n",
        "mytriple = myfunc(3)\n",
        "print(mytriple(11))"
      ],
      "execution_count": 11,
      "outputs": [
        {
          "output_type": "stream",
          "text": [
            "33\n"
          ],
          "name": "stdout"
        }
      ]
    },
    {
      "cell_type": "code",
      "metadata": {
        "id": "oknezQybWiPE",
        "colab_type": "code",
        "colab": {
          "base_uri": "https://localhost:8080/",
          "height": 34
        },
        "outputId": "7581816a-2699-4fa3-8778-b93de5305ce2"
      },
      "source": [
        "# map function if i want to do opr in a list and get a list\n",
        "l= [1,3,4,5,6,8]\n",
        "x = list(map(lambda a: a*2, l))\n",
        "# print(list(x))\n",
        "print(x)"
      ],
      "execution_count": 14,
      "outputs": [
        {
          "output_type": "stream",
          "text": [
            "[2, 6, 8, 10, 12, 16]\n"
          ],
          "name": "stdout"
        }
      ]
    },
    {
      "cell_type": "code",
      "metadata": {
        "id": "LaDxRrC4Ygr6",
        "colab_type": "code",
        "colab": {
          "base_uri": "https://localhost:8080/",
          "height": 34
        },
        "outputId": "858ada68-642e-414e-b5fa-a3ac0a6e9ab5"
      },
      "source": [
        "# filter is used return list and takes boolen i\\p\n",
        "l= [2,3,4,5,6,6,7,7,8,9,1]\n",
        "x = filter(lambda x:(x%2==0), l)\n",
        "print(list(x))\n"
      ],
      "execution_count": 16,
      "outputs": [
        {
          "output_type": "stream",
          "text": [
            "[2, 4, 6, 6, 8]\n"
          ],
          "name": "stdout"
        }
      ]
    },
    {
      "cell_type": "code",
      "metadata": {
        "id": "Vt0Lnl6bXd3q",
        "colab_type": "code",
        "colab": {}
      },
      "source": [
        ""
      ],
      "execution_count": 0,
      "outputs": []
    }
  ]
}